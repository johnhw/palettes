{
 "cells": [
  {
   "cell_type": "code",
   "execution_count": 1,
   "metadata": {
    "collapsed": false
   },
   "outputs": [],
   "source": [
    "from PIL import Image"
   ]
  },
  {
   "cell_type": "code",
   "execution_count": 43,
   "metadata": {
    "collapsed": true
   },
   "outputs": [],
   "source": [
    "from PIL import ImageDraw, ImageFont\n",
    "import os"
   ]
  },
  {
   "cell_type": "code",
   "execution_count": 23,
   "metadata": {
    "collapsed": false
   },
   "outputs": [],
   "source": [
    "palettes = {}\n",
    "# read the palettes\n",
    "for file in os.listdir(\".\"):    \n",
    "    if file.endswith(\".gpl\"):\n",
    "        with open(file) as f:\n",
    "            palette = []\n",
    "            for line in f:\n",
    "                    try:\n",
    "                        rgb = [int(i) for i in line.strip().split(\" \")]                        \n",
    "                        palette.append(rgb)\n",
    "                    except ValueError:\n",
    "                        # skip non-palette lines\n",
    "                        pass\n",
    "        palettes[file] = palette\n",
    "\n",
    "        "
   ]
  },
  {
   "cell_type": "code",
   "execution_count": 54,
   "metadata": {
    "collapsed": false
   },
   "outputs": [],
   "source": [
    "gap = 4\n",
    "sz = 32\n",
    "width = 600\n",
    "\n",
    "text_width = 200\n",
    "fnt = ImageFont.truetype('Oxygen-Regular.ttf', 20)\n",
    "\n",
    "n_palettes = len(palettes)\n",
    "pal = Image.new('RGB', (text_width+width,(sz+gap)*n_palettes), (255,255,255))\n",
    "y1 = 0\n",
    "for name, palette in palettes.items():\n",
    "    w = 600\n",
    "    div_size = w/len(palette)-gap    \n",
    "    pal_ctx = ImageDraw.Draw(pal)\n",
    "    pal_ctx.text((0,y1), name, font=fnt, fill=(0,0,0,255))\n",
    "    y2 = y1+sz\n",
    "    x1 = text_width\n",
    "\n",
    "    for rgb in palette:\n",
    "        x2 = x1 + div_size    \n",
    "        pal_ctx.rectangle(((x1,y1,x2,y2)), fill=tuple(rgb))\n",
    "        x1 = x1 + div_size + gap\n",
    "    y1 += sz + gap\n",
    "pal.save(\"pal.png\")    \n",
    "    "
   ]
  },
  {
   "cell_type": "code",
   "execution_count": null,
   "metadata": {
    "collapsed": true
   },
   "outputs": [],
   "source": []
  }
 ],
 "metadata": {
  "kernelspec": {
   "display_name": "Python 2",
   "language": "python",
   "name": "python2"
  },
  "language_info": {
   "codemirror_mode": {
    "name": "ipython",
    "version": 2
   },
   "file_extension": ".py",
   "mimetype": "text/x-python",
   "name": "python",
   "nbconvert_exporter": "python",
   "pygments_lexer": "ipython2",
   "version": "2.7.12"
  }
 },
 "nbformat": 4,
 "nbformat_minor": 0
}
